{
 "cells": [
  {
   "attachments": {},
   "cell_type": "markdown",
   "metadata": {},
   "source": [
    "# Web Mining and Applied NLP (44-620)\n",
    "\n",
    "## Python Notebooks, Basics, and Data Structures\n",
    "\n",
    "### Student Name: Lindsey Sullivan\n",
    "### Github Link: https://github.com/LindseySully/44620-80/tree/master/Module_02\n",
    "\n",
    "Perform the tasks described in the Markdown cells below.  When you have completed the assignment make sure your code cells have all been run (and have output beneath them) and ensure you have committed and pushed ALL of your changes to your assignment repository.\n",
    "\n",
    "Every question that requires you to write code will have a code cell underneath it; you may either write your entire solution in that cell or write it in a python file (`.py`), then import and run the appropriate code to answer the question.\n",
    "\n",
    "Do not use external modules (`math`, etc) for this assignment unless you are explicitly instructed to, though you may use built in python functions (`min`, `max`, etc) as you wish."
   ]
  },
  {
   "attachments": {},
   "cell_type": "markdown",
   "metadata": {},
   "source": [
    "1. Modify the Markdown cell above to put your name after \"Student Name:\"; you will be expected to do this in all assignments presented in this format for this class."
   ]
  },
  {
   "attachments": {},
   "cell_type": "markdown",
   "metadata": {},
   "source": [
    "2. Write code that divides any two numbers, stores the result in a variable, and prints the result with an appropriate label."
   ]
  },
  {
   "cell_type": "code",
   "execution_count": 3,
   "metadata": {},
   "outputs": [
    {
     "name": "stdout",
     "output_type": "stream",
     "text": [
      "Division Results = 5.0\n"
     ]
    }
   ],
   "source": [
    "a = 10\n",
    "b = 2\n",
    "ab = \"Division Results =\" \n",
    "print(ab,a/b)"
   ]
  },
  {
   "attachments": {},
   "cell_type": "markdown",
   "metadata": {},
   "source": [
    "3. Using loops (and potentially conditionals), write Python code that prints the factorial of each integer from 1 through 10 (which you can store in a variable if you want). The factorial of an integer is the product of all of the integers of 1 through the number. Print the result with an appropriate label."
   ]
  },
  {
   "cell_type": "code",
   "execution_count": 8,
   "metadata": {},
   "outputs": [
    {
     "name": "stdout",
     "output_type": "stream",
     "text": [
      "The factorial of 1 is 1\n",
      "The factorial of 2 is 2\n",
      "The factorial of 3 is 6\n",
      "The factorial of 4 is 24\n",
      "The factorial of 5 is 120\n",
      "The factorial of 6 is 720\n",
      "The factorial of 7 is 5040\n",
      "The factorial of 8 is 40320\n",
      "The factorial of 9 is 362880\n",
      "The factorial of 10 is 3628800\n"
     ]
    }
   ],
   "source": [
    "fact = 1\n",
    "for i in range (1,11):\n",
    "    fact = fact*i\n",
    "    print(\"The factorial of\",i, \"is\", fact)"
   ]
  },
  {
   "attachments": {},
   "cell_type": "markdown",
   "metadata": {},
   "source": [
    "4. Write a python function that takes a single parameter and calculates and returns the average (mean) of the values in the parameter (which you may assume is iterable).  Show that your function works by printing the result of calling the function on the list in the cell below."
   ]
  },
  {
   "cell_type": "code",
   "execution_count": 1,
   "metadata": {},
   "outputs": [
    {
     "name": "stdout",
     "output_type": "stream",
     "text": [
      "0.0\n"
     ]
    }
   ],
   "source": [
    "testlist = [1,-1,2,-2,3,-3,4,-4]\n",
    "def mean(list):\n",
    "    return sum(list)/float(len(list))\n",
    "print(mean(testlist))"
   ]
  },
  {
   "attachments": {},
   "cell_type": "markdown",
   "metadata": {},
   "source": [
    "5. Using your mean function above, write a function that calculates the variance of the list of numbers (see https://en.wikipedia.org/wiki/Variance for more information on the formula). In short:\n",
    "* subtract the mean of the elements in the list from every element in the list; store these values in a new list\n",
    "* square every element in the new list and sum the elements together\n",
    "* divide the resulting number by N (where N is the length of the original list)\n",
    "\n",
    "Show the result of calling your function in the lists in the code cell. You must use one or more list comprehensions or map/filter in your code.\n"
   ]
  },
  {
   "cell_type": "code",
   "execution_count": 23,
   "metadata": {},
   "outputs": [
    {
     "name": "stdout",
     "output_type": "stream",
     "text": [
      "List 1 Variance: \n",
      "Mean:  -0.3881\n",
      "Subtraction of Mean:  [0.9551, -1.0918999999999999, -0.16890000000000005, -1.0819, 1.1221, 1.4381, 0.8361000000000001, 0.6451, -1.5819, -1.0718999999999999]\n",
      "Square of every element: [0.9122160099999999, 1.1922456099999996, 0.028527210000000018, 1.1705076100000003, 1.2591084100000003, 2.06813161, 0.6990632100000002, 0.41615401, 2.50240761, 1.1489696099999998]\n",
      "Sum of Elements: 11.3973309\n",
      "Variance of List1:  1.13973309\n",
      "----------\n",
      "List 2 Variance: \n",
      "Mean:  0.64707\n",
      "Subtraction of Mean:  [-2.42707, -0.38307, 0.5129299999999999, 0.26093, 1.13293, 0.43293000000000004, 0.40293, -0.69337, 0.87293, -0.11207]\n",
      "Square of every element: [5.8906687849, 0.1467426249, 0.2630971848999999, 0.0680844649, 1.2835303849, 0.18742838490000002, 0.1623525849, 0.48076195690000006, 0.7620067849, 0.012559684900000001]\n",
      "Sum of Elements: 9.257232841\n",
      "Variance of List1:  0.9257232841\n"
     ]
    }
   ],
   "source": [
    "list1 = [ 5.670e-1, -1.480e+0, -5.570e-1, -1.470e+0, 7.340e-1, 1.050e+0, 4.480e-1, 2.570e-1, -1.970e+0, -1.460e+0]\n",
    "list2 = [-1.780e+0, 2.640e-1, 1.160e+0, 9.080e-1, 1.780e+0, 1.080e+0, 1.050e+0, -4.630e-2, 1.520e+0, 5.350e-1]\n",
    "# the variances of both lists should be relatively close to 1 (off by less than .15)\n",
    "\n",
    "Variance = []\n",
    "def mean(list):\n",
    "    return sum(list)/(len(list))\n",
    "\n",
    "## List1\n",
    "print(\"List 1 Variance: \")\n",
    "print(\"Mean: \",mean(list1))\n",
    "## Subtract the mean of the elements in the list from every element in the list\n",
    "Variance = list(map(lambda x: x - mean(list1), list1))\n",
    "print(\"Subtraction of Mean: \",Variance)\n",
    "\n",
    "##square every element in the new list and sum the elements together\n",
    "Variance= [(x * x) for x in Variance]\n",
    "print(\"Square of every element:\",Variance)\n",
    "\n",
    "SumofElements = sum(Variance)\n",
    "print(\"Sum of Elements:\",SumofElements)\n",
    "var1 = SumofElements/len(list1)\n",
    "\n",
    "##divide the resulting number by N (where N is the length of the original list)\n",
    "print(\"Variance of List1: \",var1)\n",
    "print(\"----------\")\n",
    "\n",
    "## List2\n",
    "print(\"List 2 Variance: \")\n",
    "print(\"Mean: \",mean(list2))\n",
    "## Subtract the mean of the elements in the list from every element in the list\n",
    "Variance = list(map(lambda x: x - mean(list2), list2))\n",
    "print(\"Subtraction of Mean: \",Variance)\n",
    "\n",
    "##square every element in the new list and sum the elements together\n",
    "Variance= [(x * x) for x in Variance]\n",
    "print(\"Square of every element:\",Variance)\n",
    "\n",
    "SumofElements = sum(Variance)\n",
    "print(\"Sum of Elements:\",SumofElements)\n",
    "\n",
    "##divide the resulting number by N (where N is the length of the original list)\n",
    "var2 = SumofElements/len(list2)\n",
    "print(\"Variance of List1: \",var2)"
   ]
  },
  {
   "cell_type": "code",
   "execution_count": 21,
   "metadata": {},
   "outputs": [
    {
     "name": "stdout",
     "output_type": "stream",
     "text": [
      "1.13973309\n",
      "0.9257232840999998\n"
     ]
    }
   ],
   "source": [
    "##Checking work with numpy\n",
    "import numpy as np\n",
    "list1 = [ 5.670e-1, -1.480e+0, -5.570e-1, -1.470e+0, 7.340e-1, 1.050e+0, 4.480e-1, 2.570e-1, -1.970e+0, -1.460e+0]\n",
    "list2 = [-1.780e+0, 2.640e-1, 1.160e+0, 9.080e-1, 1.780e+0, 1.080e+0, 1.050e+0, -4.630e-2, 1.520e+0, 5.350e-1]\n",
    "print(np.var(list1))\n",
    "print(np.var(list2))"
   ]
  },
  {
   "attachments": {},
   "cell_type": "markdown",
   "metadata": {},
   "source": [
    "6. Create a list with at least 15 elements in it. Use list slicing to print the following:\n",
    "* The first 5 elements of the list\n",
    "* The last 5 elements of the list\n",
    "* The list reversed (hint, show the entire list with a stride of -1)\n",
    "* Every second element in the list\n",
    "* Every third element in the list (stride of 3)"
   ]
  },
  {
   "cell_type": "code",
   "execution_count": 31,
   "metadata": {},
   "outputs": [
    {
     "name": "stdout",
     "output_type": "stream",
     "text": [
      "List Values: [0, 1, 2, 3, 4, 5, 6, 7, 8, 9, 10, 11, 12, 13, 14, 15]\n",
      "List Length: 16\n",
      "First 5 elements: [1, 2, 3, 4, 5]\n",
      "Last 5 elements: [11, 12, 13, 14, 15]\n",
      "Reversing it: [15, 14, 13, 12, 11, 10, 9, 8, 7, 6, 5, 4, 3, 2, 1, 0]\n",
      "Every second element: [1, 3, 5, 7, 9, 11, 13, 15]\n",
      "Every third element: [2, 5, 8, 11, 14]\n"
     ]
    }
   ],
   "source": [
    "my_list = list(range(16))\n",
    "print(\"List Values:\", my_list)\n",
    "print(\"List Length:\", len(my_list))\n",
    "print(\"First 5 elements:\",my_list[1:6])\n",
    "print(\"Last 5 elements:\",my_list[11:16])\n",
    "print(\"Reversing it:\",my_list[::-1])\n",
    "print(\"Every second element:\",my_list[1::2])\n",
    "print(\"Every third element:\", my_list[2::3])"
   ]
  },
  {
   "attachments": {},
   "cell_type": "markdown",
   "metadata": {},
   "source": [
    "7. Build a dictionary that contains the following information about this class (with appropriate names as keys):\n",
    "* The name\n",
    "* The course number\n",
    "* The semester/term in which you are taking this course\n",
    "* The number of credit hours this course counts for\n",
    "* A list of the course learning objectives\n",
    "\n",
    "The majority of this information can be found in the syllabus. Print the dictionary."
   ]
  },
  {
   "cell_type": "code",
   "execution_count": 33,
   "metadata": {},
   "outputs": [
    {
     "name": "stdout",
     "output_type": "stream",
     "text": [
      "name Lindsey\n",
      "course number -8657\n",
      "Semester/Term Summer 2023 - Block 2\n",
      "Credit Hours 3\n",
      "Learning Objectives {'L01': ['Manage Python libraries and packages'], 'L02': ['Interact with Hosted Version Control Systems (e.g. Git and Github)'], 'L03': ['Programmatically obtain and transform data from web-based APIs and HTML pages into a usable form'], 'L04': ['Describe the steps in a basic Natural Language Processing Pipeline'], 'L05': ['Use preexisting tools and software libraries to perform some Natural Language Processing, such as sentiment analysis.'], 'L06': ['Explain results and conclusions drawn from the visualized information.']}\n"
     ]
    }
   ],
   "source": [
    "my_dict = {'name':'Lindsey', \n",
    "           'course number': 44-620-8081, \n",
    "           'Semester/Term' : 'Summer 2023 - Block 2', \n",
    "           \"Credit Hours\" : 3, \n",
    "           \"Learning Objectives\" : {'L01': [\"Manage Python libraries and packages\"],\n",
    "                                    'L02': [\"Interact with Hosted Version Control Systems (e.g. Git and Github)\"],\n",
    "                                    'L03': [\"Programmatically obtain and transform data from web-based APIs and HTML pages into a usable form\"],\n",
    "                                    'L04': [\"Describe the steps in a basic Natural Language Processing Pipeline\"],\n",
    "                                    'L05': [\"Use preexisting tools and software libraries to perform some Natural Language Processing, such as sentiment analysis.\"],\n",
    "                                    'L06': [\"Explain results and conclusions drawn from the visualized information.\"]}\n",
    "           }\n",
    "for key, value in my_dict.items():\n",
    "    print(key,value)"
   ]
  },
  {
   "attachments": {},
   "cell_type": "markdown",
   "metadata": {},
   "source": [
    "8.  Given the dictionary defined in the code cell below, print the list of level 3 spells the character has."
   ]
  },
  {
   "cell_type": "code",
   "execution_count": 41,
   "metadata": {},
   "outputs": [
    {
     "name": "stdout",
     "output_type": "stream",
     "text": [
      "['Mass Healing Word', 'Nondetection', 'Revivify', 'Feign Death', 'Speak with Dead']\n"
     ]
    }
   ],
   "source": [
    "player_character = {'name': 'Kitab',\n",
    "                   'class': [('Cleric: Knowledge', 7)],\n",
    "                   'spells': {'cantrip': ['Guidance', 'Light', 'Thaumaturgy', 'Toll the Dead', 'Word of Radiance'],\n",
    "                             'level 1': ['Command', 'Detect Magic', 'Healing Word', 'Identify', 'Sleep'],\n",
    "                             'level 2': ['Augury', 'Calm Emotions', 'Command', 'Invisibility', 'Lesser Restoration'],\n",
    "                             'level 3': ['Mass Healing Word', 'Nondetection', 'Revivify', 'Feign Death', 'Speak with Dead'],\n",
    "                             'level 4': ['Banishment', 'Confusion']}\n",
    "                   }\n",
    "print(player_character['spells']['level 3'])"
   ]
  },
  {
   "attachments": {},
   "cell_type": "markdown",
   "metadata": {},
   "source": [
    "9. Write code to determine the number of unique elements in the list below.  You MUST use a set in finding your solution.  Print the number of unique values in the list with an appropriate label."
   ]
  },
  {
   "cell_type": "code",
   "execution_count": 42,
   "metadata": {},
   "outputs": [
    {
     "name": "stdout",
     "output_type": "stream",
     "text": [
      "Unique Values: [0, 1, 5, 6, 7, 8, 9, 10, 11, 12, 13, 15]\n"
     ]
    }
   ],
   "source": [
    "values = [10, 11, 10, 8, 1, 12, 0, 1, 6, 5, 5, 13, 6, 15, 0, 0, 1, 1, 9, 7]\n",
    "unique_values = list(set(values))\n",
    "print(\"Unique Values:\", unique_values)"
   ]
  },
  {
   "attachments": {},
   "cell_type": "markdown",
   "metadata": {},
   "source": [
    "10. Create a new Jupyter Notebook (the name of the notebook should be your S number). Add a Markdown cell that contains your name. Add a Code cell and write Python that uses loops to draw the following pattern:\n",
    "\n",
    "```\n",
    "*      *\n",
    "**    **\n",
    "***  ***\n",
    "********\n",
    "```\n",
    "Make sure to add and submit both the new notebook and the changes to this notebook for this assignment."
   ]
  },
  {
   "cell_type": "code",
   "execution_count": 3,
   "metadata": {},
   "outputs": [
    {
     "data": {
      "text/plain": [
       "0"
      ]
     },
     "execution_count": 3,
     "metadata": {},
     "output_type": "execute_result"
    }
   ],
   "source": [
    "import os\n",
    "os.system('jupyter nbconvert --to html python-ds.ipynb')"
   ]
  }
 ],
 "metadata": {
  "kernelspec": {
   "display_name": "Python 3",
   "language": "python",
   "name": "python3"
  },
  "language_info": {
   "codemirror_mode": {
    "name": "ipython",
    "version": 3
   },
   "file_extension": ".py",
   "mimetype": "text/x-python",
   "name": "python",
   "nbconvert_exporter": "python",
   "pygments_lexer": "ipython3",
   "version": "3.10.9"
  }
 },
 "nbformat": 4,
 "nbformat_minor": 4
}
